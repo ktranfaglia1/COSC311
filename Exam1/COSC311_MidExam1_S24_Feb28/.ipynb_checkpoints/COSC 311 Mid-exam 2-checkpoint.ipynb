{
 "cells": [
  {
   "cell_type": "markdown",
   "metadata": {},
   "source": [
    "# COSC 311 Mid-exam 2"
   ]
  },
  {
   "cell_type": "markdown",
   "metadata": {},
   "source": [
    "To finish this exam, please download the \"housing.csv\" dataset from the exam instructions. You will have 80 minutes to finish.\n",
    "\n",
    "This is a open-book exam. You may use the lecture note, textbook, and online tutorials. However, you are NOT allowed to search any related example code and/or solution from any internet sources.\n",
    "\n",
    "Note: you need to copy and paste your source code in the Answer Area after each task on MyClasses. In addition, you also need to upload this Jupyter Notebook (\".ipynb\") file with all source code and test results to the last task of this exam on MyClasses."
   ]
  },
  {
   "cell_type": "code",
   "execution_count": null,
   "metadata": {},
   "outputs": [],
   "source": []
  },
  {
   "cell_type": "markdown",
   "metadata": {},
   "source": [
    "I. Please use the \"Housing Dataset\" attached to finish the following tasks. For each task, please copy and paste your source code in the Answer Area after each task. At the same time, please upload your Jupyter Notebook (\".ipynb\") file with all source code and test results at the last task of this exam."
   ]
  },
  {
   "cell_type": "markdown",
   "metadata": {},
   "source": [
    "1. (20 points) Use Pandas package to:\n",
    "\n",
    "1) use info() function to show the column information of this dataset\n",
    "\n",
    "2) use describe() function to show the statistics (count, mean, std, min, ...) of this dataset\n",
    "\n",
    "3) show the unique values of the \"ocean_proximity\" column\n",
    "\n",
    "4) count how many samples there are in this dataset"
   ]
  },
  {
   "cell_type": "code",
   "execution_count": null,
   "metadata": {},
   "outputs": [],
   "source": []
  },
  {
   "cell_type": "markdown",
   "metadata": {},
   "source": [
    "2. (15 points) Draw a scatterplot figure to show the relationship between \"median_income\" and \"median_house_value\""
   ]
  },
  {
   "cell_type": "code",
   "execution_count": null,
   "metadata": {},
   "outputs": [],
   "source": []
  },
  {
   "cell_type": "markdown",
   "metadata": {},
   "source": [
    "3. (15 points) Draw a bar figure to show the average \"population\" for each type of \"ocean_proximity\" (i.e. for 'NEAR BAY', '<1H OCEAN', 'INLAND', 'NEAR OCEAN', and 'ISLAND', respectively)"
   ]
  },
  {
   "cell_type": "code",
   "execution_count": null,
   "metadata": {},
   "outputs": [],
   "source": []
  },
  {
   "cell_type": "markdown",
   "metadata": {},
   "source": [
    "4. (15 points) Draw a histogram to show the \"median_income\" distribution in 5 bins for the \"NEAR BAY\" houses"
   ]
  },
  {
   "cell_type": "code",
   "execution_count": null,
   "metadata": {},
   "outputs": [],
   "source": []
  },
  {
   "cell_type": "markdown",
   "metadata": {},
   "source": [
    "II. Please use the \"breast cancer dataset\" included in the scikit-learn library to conduct the following classfication tasks. The code for loading this dataset is given below:\n",
    "\n",
    "*from sklearn import datasets*\n",
    "\n",
    "*dataset = datasets.load_breast_cancer()*\n",
    "\n",
    "*X = dataset['data']*\n",
    "\n",
    "*y = dataset['target']*\n",
    "\n",
    "\n",
    "For each task, please copy and paste your source code in the Answer Area after each task. At the same time, please upload your Jupyter Notebook (\".ipynb\") file with all source code and test results at the last task of this exam."
   ]
  },
  {
   "cell_type": "markdown",
   "metadata": {},
   "source": [
    "1. (5 points) Randomly split this dataset into two parts: 60% for training and 40% for testing\n",
    "2. (20 points) Build a Decision Tree classification model with appropriate parameters (to obtain higher testing accuracy). Show the testing accuracy using \".score()\" method\n",
    "3. (10 points) Show the confusion matrix of the above independent test"
   ]
  },
  {
   "cell_type": "code",
   "execution_count": null,
   "metadata": {},
   "outputs": [],
   "source": []
  },
  {
   "cell_type": "code",
   "execution_count": null,
   "metadata": {},
   "outputs": [],
   "source": []
  }
 ],
 "metadata": {
  "kernelspec": {
   "display_name": "Python 3",
   "language": "python",
   "name": "python3"
  },
  "language_info": {
   "codemirror_mode": {
    "name": "ipython",
    "version": 3
   },
   "file_extension": ".py",
   "mimetype": "text/x-python",
   "name": "python",
   "nbconvert_exporter": "python",
   "pygments_lexer": "ipython3",
   "version": "3.8.5"
  }
 },
 "nbformat": 4,
 "nbformat_minor": 4
}

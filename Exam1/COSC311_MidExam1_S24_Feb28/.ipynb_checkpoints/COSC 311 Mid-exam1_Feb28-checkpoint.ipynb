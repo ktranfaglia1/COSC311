{
 "cells": [
  {
   "cell_type": "markdown",
   "metadata": {},
   "source": [
    "# COSC 311 Mid-exam 1"
   ]
  },
  {
   "cell_type": "markdown",
   "metadata": {},
   "source": [
    "To finish this exam, please download the \"housing.csv\" dataset from the exam instructions. You will have 60 minutes to finish.\n",
    "\n",
    "This is a open-book exam. You may use the lecture note, textbook, and online tutorials. However, you are NOT allowed to search any related example code and/or solution from any internet sources.\n",
    "\n",
    "Note: you need to copy and paste your source code in the Answer Area after each task on MyClasses. In addition, you also need to upload this Jupyter Notebook (\".ipynb\") file with all source code and test results to the last task of this exam on MyClasses."
   ]
  },
  {
   "cell_type": "markdown",
   "metadata": {},
   "source": [
    "I. (10 points)\n",
    "\n",
    "The Padovan sequence: 1, 1, 1, 2, 2, 3, 4, 5, 7, 9, 12, 16, 21, 28, 37, 49, 65, 86, 114, 151, 200, 265, ...\n",
    "\n",
    "It is the sequence of integers P(n) defined as:\n",
    "\n",
    "P(0) = P(1) = P(2) = 1\n",
    "\n",
    "P(n) = P(n-2) + P(n-3), here n >= 3.\n",
    "\n",
    "Write a Python program to 1) calculate and output the sum of the first 50 numbers for the Padovan sequence; 2) of the first 50 numbers, calculate and output the sum of all even numbers; 3) of the first 50 numbers, calculate and output the sum of all odd numbers."
   ]
  },
  {
   "cell_type": "code",
   "execution_count": null,
   "metadata": {},
   "outputs": [],
   "source": []
  },
  {
   "cell_type": "markdown",
   "metadata": {},
   "source": [
    "II. Please use the \"Housing Dataset\" attached to finish the following tasks. For each task, please copy and paste your source code in the Answer Area after each task. At the same time, please upload your Jupyter Notebook (\".ipynb\") file with all source code and test results at the last task of this exam."
   ]
  },
  {
   "cell_type": "markdown",
   "metadata": {},
   "source": [
    "1. (10 points) Use Pandas package to:\n",
    "\n",
    "1) use info() function to show the column information of this dataset\n",
    "\n",
    "2) show the statistics (count, mean, std, min, ...) of numeric columns in this dataset\n",
    "\n",
    "3) show the unique values of the \"housing_median_age\" column\n",
    "\n",
    "4) count how many samples there are in this dataset\n"
   ]
  },
  {
   "cell_type": "code",
   "execution_count": null,
   "metadata": {},
   "outputs": [],
   "source": []
  },
  {
   "cell_type": "markdown",
   "metadata": {},
   "source": [
    "2. (10 points) Draw a scatterplot figure to show the relationship between \"total_bedrooms\" and \"households\""
   ]
  },
  {
   "cell_type": "code",
   "execution_count": null,
   "metadata": {},
   "outputs": [],
   "source": []
  },
  {
   "cell_type": "markdown",
   "metadata": {},
   "source": [
    "3. (10 points) Draw a bar figure to show the average \"median_house_value\" for each type of \"ocean_proximity\" (i.e. for 'NEAR BAY', '<1H OCEAN', 'INLAND', 'NEAR OCEAN', and 'ISLAND', respectively)"
   ]
  },
  {
   "cell_type": "code",
   "execution_count": null,
   "metadata": {},
   "outputs": [],
   "source": []
  },
  {
   "cell_type": "markdown",
   "metadata": {},
   "source": [
    "4. (10 points) Draw a histogram to show the \"housing_median_age\" distribution in 5 bins for the \"<1H OCEAN\" houses"
   ]
  },
  {
   "cell_type": "code",
   "execution_count": null,
   "metadata": {},
   "outputs": [],
   "source": []
  },
  {
   "cell_type": "code",
   "execution_count": null,
   "metadata": {},
   "outputs": [],
   "source": []
  }
 ],
 "metadata": {
  "kernelspec": {
   "display_name": "Python 3 (ipykernel)",
   "language": "python",
   "name": "python3"
  },
  "language_info": {
   "codemirror_mode": {
    "name": "ipython",
    "version": 3
   },
   "file_extension": ".py",
   "mimetype": "text/x-python",
   "name": "python",
   "nbconvert_exporter": "python",
   "pygments_lexer": "ipython3",
   "version": "3.11.4"
  }
 },
 "nbformat": 4,
 "nbformat_minor": 4
}

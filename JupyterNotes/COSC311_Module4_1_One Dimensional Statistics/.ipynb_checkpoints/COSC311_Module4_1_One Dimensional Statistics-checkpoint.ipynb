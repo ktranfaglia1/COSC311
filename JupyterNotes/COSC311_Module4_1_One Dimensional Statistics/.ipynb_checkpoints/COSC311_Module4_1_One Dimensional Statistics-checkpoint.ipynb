{
 "cells": [
  {
   "cell_type": "markdown",
   "metadata": {},
   "source": [
    "# COSC 311: Introduction to Data Visualization and Interpretation"
   ]
  },
  {
   "cell_type": "markdown",
   "metadata": {},
   "source": [
    "Instructor: Dr. Shuangquan (Peter) Wang\n",
    "\n",
    "Email: spwang@salisbury.edu\n",
    "\n",
    "Department of Computer Science, Salisbury University\n"
   ]
  },
  {
   "cell_type": "markdown",
   "metadata": {},
   "source": [
    "# Module 4_Statistics & Probability\n",
    "\n",
    "## 1. One Dimensional Statistics\n"
   ]
  },
  {
   "cell_type": "markdown",
   "metadata": {},
   "source": [
    "**Contents of this note refer to 1) Dr. Joe Anderson's teaching materials; 2) textbook \"Data Science from Scratch\";**"
   ]
  },
  {
   "cell_type": "markdown",
   "metadata": {},
   "source": [
    "**<font color=red>All rights reserved. Dissemination or sale of any part of this note is NOT permitted.</font>**"
   ]
  },
  {
   "cell_type": "markdown",
   "metadata": {},
   "source": [
    "## One-Dimensional Statistical Tools\n",
    "\n",
    "When we're presented with sets of raw data from some observations, we need to be able to systematically quantify its various properties. \n",
    "This is the purpose of most one-dimensional descriptive statistics:\n",
    "\n",
    "## Central tendencies: mean/average, median, quantile\n",
    "\n",
    "### mean/average\n",
    "- Quantify the \"average\" value present (i.e. the mean), which is used to represent where the data is centered.\n",
    "\n",
    "$$ \\bar{x} := \\frac{1}{N} \\sum_{i=1}^{N} x_i $$\n",
    "\n"
   ]
  },
  {
   "cell_type": "code",
   "execution_count": null,
   "metadata": {},
   "outputs": [],
   "source": [
    "import numpy as np\n",
    "import math\n",
    "from collections import Counter"
   ]
  },
  {
   "cell_type": "code",
   "execution_count": null,
   "metadata": {},
   "outputs": [],
   "source": [
    "def mean(x):\n",
    "    \"\"\"calculate and return the mean of a numpy array (or a list)\"\"\"\n",
    "    sum = 0\n",
    "    for i in range(len(x)):\n",
    "        sum += x[i]\n",
    "    return sum/len(x)"
   ]
  },
  {
   "cell_type": "code",
   "execution_count": null,
   "metadata": {},
   "outputs": [],
   "source": [
    "num_friends = [100.0,49,41,40,25,21,21,19,19,18,18,16,15,15,15,15,14,14,13,13,13,13,\n",
    "               12,12,11,10,10,10,10,10,10,10,10,10,10,10,10,10,10,10,9,9,9,9,9,9,9,\n",
    "               9,9,9,9,9,9,9,9,9,9,9,8,8,8,8,8,8,8,8,8,8,8,8,8,7,7,7,7,7,7,7,7,7,7,\n",
    "               7,7,7,7,7,6,6,6,6,6,6,6,6,6,6,6,6,6,6,6,6,6,6,6,6,6,6,5,5,5,5,5,5,5,\n",
    "               5,5,5,5,5,5,5,5,5,5,4,4,4,4,4,4,4,4,4,4,4,4,4,4,4,4,4,4,4,4,3,3,3,3,\n",
    "               3,3,3,3,3,3,3,3,3,3,3,3,3,3,3,3,2,2,2,2,2,2,2,2,2,2,2,2,2,2,2,2,2,1,\n",
    "               1,1,1,1,1,1,1,1,1,1,1,1,1,1,1,1,1,1,1,1,1]\n",
    "print(mean(num_friends))"
   ]
  },
  {
   "cell_type": "markdown",
   "metadata": {},
   "source": [
    "### Median\n",
    "\n",
    "The middle-most value (if the number of data points is odd) or the average of the two middle-most values (if the number of data points is even)."
   ]
  },
  {
   "cell_type": "code",
   "execution_count": null,
   "metadata": {},
   "outputs": [],
   "source": [
    "def median(x):\n",
    "    \"\"\"return the 'middle value' of the array x after sorting\"\"\"\n",
    "    tmp = sorted(x)\n",
    "    # use // for integer division (i.e. round down)\n",
    "    return tmp[len(x) // 2] if len(x) % 2 == 1 else (tmp[len(x) // 2] + tmp[(len(x) // 2)-1]) / 2"
   ]
  },
  {
   "cell_type": "code",
   "execution_count": null,
   "metadata": {},
   "outputs": [],
   "source": [
    "print(median([1, 10, 2, 9, 5]))"
   ]
  },
  {
   "cell_type": "markdown",
   "metadata": {},
   "source": [
    "### Quantile\n",
    "\n",
    "A generalization of the median is the quantile, which represents the value under which a certain percentile of the data lies (the median represents the value under which 50% of the data lies)."
   ]
  },
  {
   "cell_type": "code",
   "execution_count": null,
   "metadata": {},
   "outputs": [],
   "source": [
    "def quantile(xs, q):\n",
    "    \"\"\"generalize the median to the q-percent quantile -- q is a float in range (0,1)\"\"\"\n",
    "    tmp = sorted(xs)\n",
    "    return tmp[ int(len(tmp) * q) ]"
   ]
  },
  {
   "cell_type": "code",
   "execution_count": null,
   "metadata": {},
   "outputs": [],
   "source": [
    "num_friends = [100.0,49,41,40,25,21,21,19,19,18,18,16,15,15,15,15,14,14,13,13,13,13,\n",
    "               12,12,11,10,10,10,10,10,10,10,10,10,10,10,10,10,10,10,9,9,9,9,9,9,9,\n",
    "               9,9,9,9,9,9,9,9,9,9,9,8,8,8,8,8,8,8,8,8,8,8,8,8,7,7,7,7,7,7,7,7,7,7,\n",
    "               7,7,7,7,7,6,6,6,6,6,6,6,6,6,6,6,6,6,6,6,6,6,6,6,6,6,6,5,5,5,5,5,5,5,\n",
    "               5,5,5,5,5,5,5,5,5,5,4,4,4,4,4,4,4,4,4,4,4,4,4,4,4,4,4,4,4,4,3,3,3,3,\n",
    "               3,3,3,3,3,3,3,3,3,3,3,3,3,3,3,3,2,2,2,2,2,2,2,2,2,2,2,2,2,2,2,2,2,1,\n",
    "               1,1,1,1,1,1,1,1,1,1,1,1,1,1,1,1,1,1,1,1,1]\n",
    "\n",
    "quantile(num_friends, 0.25)"
   ]
  },
  {
   "cell_type": "code",
   "execution_count": null,
   "metadata": {},
   "outputs": [],
   "source": [
    "def interquartile_range(xs):\n",
    "    \"\"\"return difference of the 25% quantile and 75% quantile\"\"\"\n",
    "    return quantile(xs, 0.75) - quantile(xs, 0.25)"
   ]
  },
  {
   "cell_type": "code",
   "execution_count": null,
   "metadata": {},
   "outputs": [],
   "source": [
    "interquartile_range(num_friends)"
   ]
  },
  {
   "cell_type": "markdown",
   "metadata": {},
   "source": [
    "## Dispersion: range/spread, variance, standard deviation\n",
    "Dispersion refers to measures of how spread out the data is.\n",
    "\n",
    "### range/spread\n",
    "A very simple measure is *range (or the \"spread\" of the data, how varied is it?)*, which is just the difference between the largest and smallest elements."
   ]
  },
  {
   "cell_type": "code",
   "execution_count": null,
   "metadata": {},
   "outputs": [],
   "source": [
    "def spread(x):\n",
    "    \"\"\"one way to measure the spread of data\"\"\"\n",
    "    return max(x) - min(x)"
   ]
  },
  {
   "cell_type": "code",
   "execution_count": null,
   "metadata": {},
   "outputs": [],
   "source": [
    "spread(num_friends)"
   ]
  },
  {
   "attachments": {
    "population-variance.png": {
     "image/png": "[encoded data removed]"
    }
   },
   "cell_type": "markdown",
   "metadata": {},
   "source": [
    "### Variance\n",
    "\n",
    "variance is the expectation of the squared deviation of a random variable from its population mean or sample mean. -- Wikipedia\n",
    "\n",
    "![population-variance.png](attachment:population-variance.png)\n",
    "\n",
    "https://www.onlinemathlearning.com/variance.html"
   ]
  },
  {
   "cell_type": "markdown",
   "metadata": {},
   "source": [
    "### Standard deviation\n",
    "\n",
    "The standard deviation of a random variable, sample, statistical population, data set, or probability distribution is the square root of its variance. -- Wikipedia\n",
    "\n",
    "$$ std(X) := \\sqrt{\\sigma^2_x} $$"
   ]
  },
  {
   "cell_type": "code",
   "execution_count": null,
   "metadata": {},
   "outputs": [],
   "source": [
    "def center(xs):\n",
    "    return np.array([x - mean(xs) for x in xs])\n",
    "\n",
    "def var(xs):\n",
    "    \"\"\"return variance of x -- the average squared distance from the mean\"\"\"\n",
    "    return mean([x**2 for x in center(xs)])  # population variance\n",
    "    #return sum([x**2 for x in center(xs)])/(len(xs) - 1)   # sample variance\n",
    "\n",
    "def std(xs):\n",
    "    return math.sqrt(var(xs))"
   ]
  },
  {
   "cell_type": "code",
   "execution_count": null,
   "metadata": {},
   "outputs": [],
   "source": [
    "var([4, 8, 6, 5, 3, 2, 8, 9, 2, 5])"
   ]
  },
  {
   "cell_type": "code",
   "execution_count": null,
   "metadata": {},
   "outputs": [],
   "source": [
    "std([4, 8, 6, 5, 3, 2, 8, 9, 2, 5])"
   ]
  },
  {
   "cell_type": "markdown",
   "metadata": {},
   "source": [
    "## Correlation: covariance, correlation\n",
    "\n",
    "### Covariance\n",
    "Whereas variance measures how a single variable deviates from its mean, covariance measures how two variables vary in tandem from their means.\n",
    "\n",
    "Covariance is the average product of differences with their means:\n",
    "$$ cov(X,Y) = \\frac{1}{N-1} \\sum_{i=1}^{N} (x_i - \\bar{x}) (y_i - \\bar{y}) $$\n",
    "Note then covariance generalizes variance in the sense that \n",
    "$$ var(X) = cov(X,X) $$"
   ]
  },
  {
   "cell_type": "code",
   "execution_count": null,
   "metadata": {},
   "outputs": [],
   "source": [
    "def cov(xs, ys):\n",
    "    \"\"\"Take two lists of observations and compute their covariance\"\"\"\n",
    "    # https://www.geeksforgeeks.org/python-assert-keyword/\n",
    "    assert len(xs) == len(ys)\n",
    "    cx = center(xs)\n",
    "    cy = center(ys)\n",
    "    return mean([cx[i]*cy[i] for i in range(len(cx))])"
   ]
  },
  {
   "cell_type": "code",
   "execution_count": null,
   "metadata": {},
   "outputs": [],
   "source": [
    "A = [3, 6, 4]\n",
    "B = [7, 12, -9]\n",
    "cov(A, B)"
   ]
  },
  {
   "cell_type": "code",
   "execution_count": null,
   "metadata": {},
   "outputs": [],
   "source": [
    "print(cov(A,A))\n",
    "\n",
    "print(var(A))"
   ]
  },
  {
   "cell_type": "markdown",
   "metadata": {},
   "source": [
    "### Correlation\n",
    "\n",
    "Correlation between two sample populations/events/processes is measure of their relationship. Typically given by a 'correlation coefficient' that is in the range (-1,1). A positive correlation means that when the value of the first process/observation is higher, so will the other one be; i.e. they increase together. Negative implies an inverse relationship; when one grows, the other shrinks. \n",
    "\n",
    "Correlation is defined as the covariance devides out the standard deviation of both variables:\n",
    "\n",
    "$$ \\sigma_{x,y} := \\frac{cov(X,Y)}{\\sigma_x \\sigma_y} $$"
   ]
  },
  {
   "cell_type": "code",
   "execution_count": null,
   "metadata": {},
   "outputs": [],
   "source": [
    "def correlation(xs, ys):\n",
    "    \"\"\"Calculate the (Pearson) correlation coefficient\"\"\"\n",
    "    return cov(xs,ys)/(std(xs)*std(ys))"
   ]
  },
  {
   "cell_type": "code",
   "execution_count": null,
   "metadata": {},
   "outputs": [],
   "source": [
    "# https://www.datacamp.com/tutorial/tutorial-datails-on-correlation\n",
    "experience = [1, 3, 4, 5, 5, 6, 7, 10, 11, 12, 15, 20, 25, 28, 30, 35]\n",
    "salary = [20000, 30000, 40000, 45000, 55000, 60000, 80000, 100000, 130000, \n",
    "          150000, 200000, 230000, 250000, 300000, 350000, 400000]\n",
    "correlation(experience, salary)"
   ]
  },
  {
   "cell_type": "markdown",
   "metadata": {},
   "source": [
    "A correlation of zero indicates that there is no **linear** relationship between the two variables. However, there may be other sorts of relationships. For example:"
   ]
  },
  {
   "cell_type": "code",
   "execution_count": null,
   "metadata": {},
   "outputs": [],
   "source": [
    "# we put all the above statistics functions in a file & import it to program\n",
    "# the file is in the same folder of this note\n",
    "import stats\n",
    "\n",
    "# Perfectly un-correlated data points but which are perfectly related; y = |x|\n",
    "xs = [-2, -1, 0, 1, 2]\n",
    "ys = [ 2,  1, 0, 1, 2]\n",
    "\n",
    "stats.correlation(xs,ys)"
   ]
  },
  {
   "cell_type": "markdown",
   "metadata": {},
   "source": [
    "It indicates that x and y have zero correlation. But they certainly have a relationship: y = abs(x)\n",
    "\n",
    "Another example:"
   ]
  },
  {
   "cell_type": "code",
   "execution_count": null,
   "metadata": {},
   "outputs": [],
   "source": [
    "x = [-2, -1, 0, 1, 2]\n",
    "y = [99.98, 99.99, 100, 100.01, 100.02]\n",
    "\n",
    "stats.correlation(x,y)"
   ]
  },
  {
   "cell_type": "markdown",
   "metadata": {},
   "source": [
    "It looks x and y are perfectly correlated, but it is quite possible that this relationship is not all that interesting.\n",
    "\n",
    "**Correlation tells you nothing about how large the relationship is.**"
   ]
  },
  {
   "cell_type": "code",
   "execution_count": null,
   "metadata": {},
   "outputs": [],
   "source": []
  },
  {
   "cell_type": "markdown",
   "metadata": {},
   "source": [
    "### Using Python modules\n",
    "\n",
    "We want to, in Python, be able to import not only nice build-in libraries, but code we wrote ourselves!\n",
    "Similar to, in `c++`, being able to `#include` other `.cpp` files.\n",
    "\n",
    "Idea:\n",
    "- Write your python tools, functions, etc. in some file that ends in `.py` (e.g. `stats.py`)\n",
    "- If the file is local to your current other Python file or Notebook, you can simple `import` that file by name (without the `.py`), e.g. `import stats`\n",
    "- This then loads the file into a scope named by the import, e.g. a function called `mean` defined in `stats.py` will be acessible via `stats.mean()`\n",
    "- Note: if using a notebook or kernel-based environment, either have to unload and reload the module to refresh its contents or restart your kernel"
   ]
  },
  {
   "cell_type": "code",
   "execution_count": null,
   "metadata": {},
   "outputs": [],
   "source": [
    "# every variable, function, etc. in the top-level scope is now here(!) \n",
    "# and located under the \"stats\" scope.\n",
    "# When you import, it essentially does `python stats.py` and stores \n",
    "# the definitions/variables\n",
    "import numpy as np\n",
    "import stats\n",
    "\n",
    "# you can import and load into the global scope\n",
    "# from stats import mean \n",
    "# only import the mean function but put it in the global scope\n",
    "# from stats import * \n",
    "# to get everything in the global scope"
   ]
  },
  {
   "cell_type": "code",
   "execution_count": null,
   "metadata": {},
   "outputs": [],
   "source": [
    "# with `import stats`\n",
    "stats.mean(np.array([3,5,7,9]))\n",
    "\n",
    "# with `from stats import mean`\n",
    "# mean(np.array([3,5,7,9]))"
   ]
  },
  {
   "cell_type": "code",
   "execution_count": null,
   "metadata": {},
   "outputs": [],
   "source": [
    "stats.median([2,5,4,3,1])"
   ]
  },
  {
   "cell_type": "code",
   "execution_count": null,
   "metadata": {},
   "outputs": [],
   "source": [
    "stats.median([2,5,4,3])"
   ]
  },
  {
   "cell_type": "code",
   "execution_count": null,
   "metadata": {},
   "outputs": [],
   "source": [
    "stats.var([4, 8, 6, 5, 3, 2, 8, 9, 2, 5])"
   ]
  },
  {
   "cell_type": "code",
   "execution_count": null,
   "metadata": {},
   "outputs": [],
   "source": []
  },
  {
   "attachments": {
    "IrisPicture.jpg": {
     "image/jpeg": "[encoded data removed]"
    }
   },
   "cell_type": "markdown",
   "metadata": {},
   "source": [
    "# 1D statistics example: Iris dataset\n",
    "\n",
    "https://archive.ics.uci.edu/ml/datasets/iris\n",
    "\n",
    "![IrisPicture.jpg](attachment:IrisPicture.jpg)"
   ]
  },
  {
   "cell_type": "code",
   "execution_count": null,
   "metadata": {},
   "outputs": [],
   "source": [
    "import numpy as np\n",
    "import pandas as pd\n",
    "from matplotlib import pyplot as plt\n",
    "import seaborn as sb\n",
    "import stats"
   ]
  },
  {
   "cell_type": "code",
   "execution_count": null,
   "metadata": {},
   "outputs": [],
   "source": [
    "iris = pd.read_csv('iris.data', header=None, \n",
    "                   names=['sepal_length', 'sepal_width', 'petal_length', \n",
    "                          'petal_width', 'class'])"
   ]
  },
  {
   "cell_type": "code",
   "execution_count": null,
   "metadata": {},
   "outputs": [],
   "source": [
    "iris"
   ]
  },
  {
   "cell_type": "code",
   "execution_count": null,
   "metadata": {},
   "outputs": [],
   "source": [
    "iris.info()"
   ]
  },
  {
   "cell_type": "code",
   "execution_count": null,
   "metadata": {},
   "outputs": [],
   "source": [
    "iris.describe()"
   ]
  },
  {
   "cell_type": "markdown",
   "metadata": {},
   "source": [
    "### Distinction between the species of iris\n",
    "\n",
    "Strategies:\n",
    "\n",
    "- Using length and width of only petals? \n",
    "    - Possibly combine to represent the area of the petal?\n",
    "- How about sepal \"size\" ratio with petal \"size\"?"
   ]
  },
  {
   "cell_type": "code",
   "execution_count": null,
   "metadata": {},
   "outputs": [],
   "source": [
    "lengths = iris[['petal_length', 'class']]"
   ]
  },
  {
   "cell_type": "code",
   "execution_count": null,
   "metadata": {},
   "outputs": [],
   "source": [
    "lengths"
   ]
  },
  {
   "cell_type": "code",
   "execution_count": null,
   "metadata": {},
   "outputs": [],
   "source": [
    "iris.groupby('class').mean()"
   ]
  },
  {
   "cell_type": "code",
   "execution_count": null,
   "metadata": {},
   "outputs": [],
   "source": [
    "iris.groupby('class').std()"
   ]
  },
  {
   "cell_type": "code",
   "execution_count": null,
   "metadata": {},
   "outputs": [],
   "source": [
    "iris.groupby('class').mean().transpose()"
   ]
  },
  {
   "cell_type": "code",
   "execution_count": null,
   "metadata": {},
   "outputs": [],
   "source": [
    "iris.groupby('class').mean().transpose().plot.bar(figsize=(10,10))\n",
    "plt.title('Average measurements between iris classes')\n",
    "plt.xlabel('Measurement')\n",
    "plt.ylabel('centimeters') # important to realize the units are all the same!"
   ]
  },
  {
   "cell_type": "code",
   "execution_count": null,
   "metadata": {},
   "outputs": [],
   "source": [
    "# going with \"size\" meaning rectangular area...\n",
    "\n",
    "iris['sepal_rectangular_area'] = iris['sepal_length'].values * iris['sepal_width'].values\n",
    "iris['petal_rectangular_area'] = iris['petal_length'].values * iris['petal_width'].values"
   ]
  },
  {
   "cell_type": "code",
   "execution_count": null,
   "metadata": {},
   "outputs": [],
   "source": [
    "iris"
   ]
  },
  {
   "cell_type": "code",
   "execution_count": null,
   "metadata": {},
   "outputs": [],
   "source": [
    "iris['sepal_petal_area_ratio'] = \\\n",
    "    iris['sepal_rectangular_area'].values / iris['petal_rectangular_area'].values"
   ]
  },
  {
   "cell_type": "code",
   "execution_count": null,
   "metadata": {},
   "outputs": [],
   "source": [
    "iris[['class', 'sepal_petal_area_ratio']].groupby('class').mean()"
   ]
  },
  {
   "cell_type": "code",
   "execution_count": null,
   "metadata": {},
   "outputs": [],
   "source": [
    "iris[['class', 'sepal_petal_area_ratio']].groupby('class').std()"
   ]
  },
  {
   "cell_type": "code",
   "execution_count": null,
   "metadata": {},
   "outputs": [],
   "source": [
    "setosa = iris['sepal_petal_area_ratio'][iris['class'] == 'Iris-setosa'].values"
   ]
  },
  {
   "cell_type": "code",
   "execution_count": null,
   "metadata": {},
   "outputs": [],
   "source": [
    "stats.mean(setosa)"
   ]
  },
  {
   "cell_type": "code",
   "execution_count": null,
   "metadata": {},
   "outputs": [],
   "source": [
    "iris.plot.scatter(x='sepal_length', y='sepal_width')\n",
    "iris.plot.scatter(x='petal_length', y='petal_width')"
   ]
  },
  {
   "cell_type": "code",
   "execution_count": null,
   "metadata": {},
   "outputs": [],
   "source": [
    "plt.scatter(x=iris['sepal_length'], y=iris['sepal_width'])"
   ]
  },
  {
   "cell_type": "code",
   "execution_count": null,
   "metadata": {},
   "outputs": [],
   "source": [
    "# But now, separate by class\n",
    "setosa = iris[iris['class'] == 'Iris-setosa']\n",
    "virginica = iris[iris['class'] == 'Iris-virginica']\n",
    "versicolor = iris[iris['class'] == 'Iris-versicolor']\n",
    "\n",
    "plt.scatter(x=setosa['sepal_length'], y=setosa['sepal_width'], color='b')\n",
    "plt.scatter(x=virginica['sepal_length'], y=virginica['sepal_width'], color='r')\n",
    "plt.scatter(x=versicolor['sepal_length'], y=versicolor['sepal_width'], color='g')\n",
    "plt.legend(['setosa', 'viginica', 'versicolor'])\n",
    "plt.title(\"Sepal length vs width\")"
   ]
  },
  {
   "cell_type": "code",
   "execution_count": null,
   "metadata": {},
   "outputs": [],
   "source": [
    "stats.var(setosa['sepal_length'])"
   ]
  },
  {
   "cell_type": "code",
   "execution_count": null,
   "metadata": {},
   "outputs": [],
   "source": [
    "setosa['sepal_length'].var()"
   ]
  },
  {
   "cell_type": "code",
   "execution_count": null,
   "metadata": {},
   "outputs": [],
   "source": [
    "setosa[['sepal_length', 'sepal_width']].cov()"
   ]
  },
  {
   "cell_type": "code",
   "execution_count": null,
   "metadata": {},
   "outputs": [],
   "source": [
    "stats.cov(setosa['sepal_length'], setosa['sepal_width'])"
   ]
  },
  {
   "cell_type": "code",
   "execution_count": null,
   "metadata": {},
   "outputs": [],
   "source": [
    "stats.correlation(setosa['sepal_length'], setosa['sepal_width'])"
   ]
  },
  {
   "cell_type": "code",
   "execution_count": null,
   "metadata": {},
   "outputs": [],
   "source": [
    "setosa[['sepal_length', 'sepal_width']].corr()"
   ]
  },
  {
   "cell_type": "code",
   "execution_count": null,
   "metadata": {},
   "outputs": [],
   "source": []
  }
 ],
 "metadata": {
  "kernelspec": {
   "display_name": "Python 3 (ipykernel)",
   "language": "python",
   "name": "python3"
  },
  "language_info": {
   "codemirror_mode": {
    "name": "ipython",
    "version": 3
   },
   "file_extension": ".py",
   "mimetype": "text/x-python",
   "name": "python",
   "nbconvert_exporter": "python",
   "pygments_lexer": "ipython3",
   "version": "3.7.1"
  }
 },
 "nbformat": 4,
 "nbformat_minor": 2
}

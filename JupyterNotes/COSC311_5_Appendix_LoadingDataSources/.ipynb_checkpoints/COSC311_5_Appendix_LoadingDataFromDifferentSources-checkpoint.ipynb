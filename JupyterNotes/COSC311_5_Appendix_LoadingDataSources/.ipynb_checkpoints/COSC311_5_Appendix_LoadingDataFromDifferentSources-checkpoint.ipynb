{
 "cells": [
  {
   "cell_type": "markdown",
   "id": "bf800741",
   "metadata": {},
   "source": [
    "# COSC 311: Introduction to Data Visualization and Interpretation"
   ]
  },
  {
   "cell_type": "markdown",
   "id": "ea6eba9e",
   "metadata": {},
   "source": [
    "Instructor: Dr. Shuangquan (Peter) Wang\n",
    "\n",
    "Email: spwang@salisbury.edu\n",
    "\n",
    "Department of Computer Science, Salisbury University\n"
   ]
  },
  {
   "cell_type": "markdown",
   "id": "bb1c799d",
   "metadata": {},
   "source": [
    "# Module 5_ML algorithms and application\n",
    "\n",
    "## Appendix. Loading Data From Different Sources\n"
   ]
  },
  {
   "cell_type": "markdown",
   "id": "d6585bfe",
   "metadata": {},
   "source": [
    "**<font color=red>All rights reserved. Dissemination or sale of any part of this note is NOT permitted.</font>**"
   ]
  },
  {
   "cell_type": "markdown",
   "id": "91f146d8",
   "metadata": {},
   "source": [
    "Refer to https://www.activestate.com/resources/quick-reads/how-to-classify-data-in-python/"
   ]
  },
  {
   "cell_type": "markdown",
   "id": "a0f1cfa6",
   "metadata": {},
   "source": [
    "## 1) From sklearn dataset"
   ]
  },
  {
   "cell_type": "code",
   "execution_count": null,
   "id": "0988cd2f",
   "metadata": {},
   "outputs": [],
   "source": [
    "from sklearn.datasets import load_iris\n",
    "from sklearn.model_selection import train_test_split\n",
    "from sklearn.preprocessing import StandardScaler \n",
    "from sklearn.neighbors import KNeighborsClassifier\n",
    "from sklearn.metrics import classification_report, confusion_matrix\n",
    "import pandas as pd \n",
    "\n",
    "dataset = load_iris()\n",
    "df = pd.DataFrame(dataset.data, columns=dataset.feature_names)\n",
    "X = dataset['data']\n",
    "y = dataset['target']\n",
    "\n",
    "# Split dataset into random train and test subsets:\n",
    "X_train, X_test, y_train, y_test = train_test_split(X, y, test_size=0.30, random_state=0) \n",
    "\n",
    "# Standardize features by removing mean and scaling to unit variance:\n",
    "scaler = StandardScaler()\n",
    "scaler.fit(X_train)\n",
    "X_train = scaler.transform(X_train)\n",
    "X_test = scaler.transform(X_test) \n",
    "\n",
    "# Use the KNN classifier to fit data:\n",
    "classifier = KNeighborsClassifier(n_neighbors=5)\n",
    "classifier.fit(X_train, y_train) \n",
    "\n",
    "# Predict y data with classifier: \n",
    "y_predict = classifier.predict(X_test)\n",
    "\n",
    "# Print results: \n",
    "print(confusion_matrix(y_test, y_predict))\n",
    "print(classification_report(y_test, y_predict))"
   ]
  },
  {
   "cell_type": "markdown",
   "id": "3830d6d1",
   "metadata": {},
   "source": [
    "## 2) From csv file"
   ]
  },
  {
   "cell_type": "code",
   "execution_count": null,
   "id": "0995212b",
   "metadata": {},
   "outputs": [],
   "source": [
    "from sklearn.model_selection import train_test_split\n",
    "from sklearn.preprocessing import StandardScaler \n",
    "from sklearn.neighbors import KNeighborsClassifier\n",
    "from sklearn.metrics import classification_report, confusion_matrix\n",
    "import pandas as pd \n",
    "\n",
    "# Convert dataset to a pandas dataframe:\n",
    "dataset = pd.read_csv(\"iris.csv\") \n",
    "\n",
    "# Use head() function to return the first 5 rows: \n",
    "print(dataset.head())\n",
    "\n",
    "# Assign values to the X and y variables:\n",
    "X = dataset.iloc[:, :-1].values\n",
    "y = dataset.iloc[:, 4].values \n",
    "\n",
    "# Split dataset into random train and test subsets:\n",
    "X_train, X_test, y_train, y_test = train_test_split(X, y, test_size=0.30, random_state=0) \n",
    "\n",
    "# Standardize features by removing mean and scaling to unit variance:\n",
    "scaler = StandardScaler()\n",
    "scaler.fit(X_train)\n",
    "X_train = scaler.transform(X_train)\n",
    "X_test = scaler.transform(X_test) \n",
    "\n",
    "# Use the KNN classifier to fit data:\n",
    "classifier = KNeighborsClassifier(n_neighbors=5)\n",
    "classifier.fit(X_train, y_train) \n",
    "\n",
    "# Predict y data with classifier: \n",
    "y_predict = classifier.predict(X_test)\n",
    "\n",
    "# Print results: \n",
    "print(confusion_matrix(y_test, y_predict))\n",
    "print(classification_report(y_test, y_predict))"
   ]
  },
  {
   "cell_type": "markdown",
   "id": "cc47115b",
   "metadata": {},
   "source": [
    "## 3) From txt file"
   ]
  },
  {
   "cell_type": "code",
   "execution_count": null,
   "id": "b55a14dc",
   "metadata": {},
   "outputs": [],
   "source": [
    "from sklearn.model_selection import train_test_split\n",
    "from sklearn.preprocessing import StandardScaler \n",
    "from sklearn.neighbors import KNeighborsClassifier\n",
    "from sklearn.metrics import classification_report, confusion_matrix\n",
    "import pandas as pd \n",
    "\n",
    "# Convert dataset to a pandas dataframe:\n",
    "dataset = pd.read_csv('iris.txt', delimiter='\\t')\n",
    "\n",
    "# Use head() function to return the first 5 rows: \n",
    "print(dataset.head())\n",
    "\n",
    "# Assign values to the X and y variables:\n",
    "X = dataset.iloc[:, :-1].values\n",
    "y = dataset.iloc[:, 4].values \n",
    "\n",
    "# Split dataset into random train and test subsets:\n",
    "X_train, X_test, y_train, y_test = train_test_split(X, y, test_size=0.30, random_state=0) \n",
    "\n",
    "# Standardize features by removing mean and scaling to unit variance:\n",
    "scaler = StandardScaler()\n",
    "scaler.fit(X_train)\n",
    "X_train = scaler.transform(X_train)\n",
    "X_test = scaler.transform(X_test) \n",
    "\n",
    "# Use the KNN classifier to fit data:\n",
    "classifier = KNeighborsClassifier(n_neighbors=5)\n",
    "classifier.fit(X_train, y_train) \n",
    "\n",
    "# Predict y data with classifier: \n",
    "y_predict = classifier.predict(X_test)\n",
    "\n",
    "# Print results: \n",
    "print(confusion_matrix(y_test, y_predict))\n",
    "print(classification_report(y_test, y_predict))"
   ]
  },
  {
   "cell_type": "code",
   "execution_count": null,
   "id": "5cc9037f",
   "metadata": {},
   "outputs": [],
   "source": []
  }
 ],
 "metadata": {
  "kernelspec": {
   "display_name": "Python 3 (ipykernel)",
   "language": "python",
   "name": "python3"
  },
  "language_info": {
   "codemirror_mode": {
    "name": "ipython",
    "version": 3
   },
   "file_extension": ".py",
   "mimetype": "text/x-python",
   "name": "python",
   "nbconvert_exporter": "python",
   "pygments_lexer": "ipython3",
   "version": "3.11.4"
  }
 },
 "nbformat": 4,
 "nbformat_minor": 5
}

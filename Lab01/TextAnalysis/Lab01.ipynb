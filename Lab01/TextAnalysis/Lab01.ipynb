{
 "cells": [
  {
   "cell_type": "markdown",
   "metadata": {},
   "source": [
    "# Kyle Tranfaglia - COSC 311 - Lab01\n",
    "### Task 1\n",
    "How many different words appeared in this paper?"
   ]
  },
  {
   "cell_type": "code",
   "execution_count": 10,
   "metadata": {},
   "outputs": [
    {
     "name": "stdout",
     "output_type": "stream",
     "text": [
      "937\n"
     ]
    }
   ],
   "source": [
    "dictionary = {}\n",
    "# Open NaturePaper.txt with read permissions with needed encoding then read in line by line\n",
    "with open('NaturePaper.txt','r', encoding = \"utf8\") as file:\n",
    "    for line in file:\n",
    "        # Tokenize the line by removing punctuation and use ' ' to denote a seperation of words\n",
    "        tokens = line.upper().replace(',','').replace(';','').replace('(','').replace(')','').replace('!','').replace('?','').replace('.','').split()\n",
    "        # Loop through all words in tokenized line and increment/set the count for each word in the dictionary\n",
    "        for word in tokens:\n",
    "            try:\n",
    "                dictionary[word] += 1\n",
    "            except:\n",
    "                dictionary[word] = 1\n",
    "\n",
    "print(len(dictionary)) # Display dictionary size (number of unique words)\n"
   ]
  },
  {
   "cell_type": "markdown",
   "metadata": {},
   "source": [
    "### Task 2\n",
    "What are the 10 words that appear most frequently (from high to low)?"
   ]
  },
  {
   "cell_type": "code",
   "execution_count": 12,
   "metadata": {},
   "outputs": [
    {
     "name": "stdout",
     "output_type": "stream",
     "text": [
      "('THE', 90)\n",
      "('OF', 74)\n",
      "('TO', 73)\n",
      "('A', 48)\n",
      "('IN', 48)\n",
      "('AND', 43)\n",
      "('THAT', 36)\n",
      "('ARE', 23)\n",
      "('FOR', 23)\n",
      "('AI', 22)\n"
     ]
    }
   ],
   "source": [
    "sorted_dictionary = sorted(dictionary.items(), reverse = True, key = lambda item: item[1])  # Sort dictionary in decrementing order by value (item[1])\n",
    "\n",
    "# Print first ten elements in the sorted dictionary (10 most frequent words)\n",
    "for i in range(10):\n",
    "    print(sorted_dictionary[i])"
   ]
  },
  {
   "cell_type": "markdown",
   "metadata": {},
   "source": [
    "### Task 3\n",
    "What are the appearance frequencies for the following words?\n",
    "- AI\n",
    "- robotics\n",
    "- climate\n",
    "- materials\n",
    "- algorithms"
   ]
  },
  {
   "cell_type": "code",
   "execution_count": 4,
   "metadata": {},
   "outputs": [
    {
     "name": "stdout",
     "output_type": "stream",
     "text": [
      "AI - 22\n",
      "ROBOTICS - 3\n",
      "CLIMATE - 12\n",
      "MATERIALS - 7\n",
      "ALGORITHMS - 8\n"
     ]
    }
   ],
   "source": [
    "search_words = [\"AI\", \"ROBOTICS\", \"CLIMATE\", \"MATERIALS\", \"ALGORITHMS\"]  # List to store the desired search words\n",
    "\n",
    "# Print the search word from list and its corresponding frequency for the length of the search_word list\n",
    "for i in range(len(search_words)):\n",
    "    print(search_words[i], \"-\", dictionary[search_words[i]])"
   ]
  },
  {
   "cell_type": "markdown",
   "metadata": {},
   "source": [
    "### Task 4\n",
    "What are the words that appear exactly 2 time, 5 times, and 10 times, respectively?"
   ]
  },
  {
   "cell_type": "code",
   "execution_count": 5,
   "metadata": {},
   "outputs": [
    {
     "name": "stdout",
     "output_type": "stream",
     "text": [
      "Words That appear exactly 2 times: ['HELPING', 'RESEARCH', 'FIELDS', 'HANDLING', 'ALREADY', 'TOOL', 'COMPANY', 'DEEPMIND', 'GOOGLE', 'ACROSS', 'HERE', 'TECHNIQUES', 'UNCOVER', 'HISTORY', 'ARTWORKS', 'BIOLOGY', 'TAKES', 'CREATURES', 'JELLYFISH', 'CORALS', 'COMPLEX', 'SPECIMENS', 'FLEXIBLE', 'APPROACHES', 'BUILDING', 'CONVENTIONAL', 'OTHERS', 'ENTIRELY', '“AND', 'ANSWER', 'PAST', 'WOOD', 'ROBOTICIST', 'CAMBRIDGE', 'MASSACHUSETTS', 'GO', 'HIS', 'COLLEAGUES', 'FIELD', '2021', 'DESIGNED', 'WESTERN', 'PACIFIC', 'OCEAN', 'FOCUSED', 'PROGRESS', 'SOPHISTICATED', 'METHODS', 'DEVELOPED', 'STILL', 'USE', 'COMPONENTS', 'YET', 'WIDELY', 'ENTHUSIASTIC', 'USEFUL', 'THREE', 'WATERS', 'ORDER', 'SHIFTS', 'GLOBAL', 'ACTIVITY', 'KNOWLEDGE', 'KNOWN', 'EVENTS', 'PREDICTIONS', 'MAKE', 'HAM’S', '“SO', 'THROUGH', 'PRODUCE', 'PROJECTIONS', 'WELL', 'DELIVER', 'STUDY', 'ACCURATELY', 'OVERCOME', 'DEEP-LEARNING', 'PARAMETERS', 'MODELLING', 'CURRENT', 'REGIONAL', 'REMAIN', 'LARGELY', 'REACH', 'DERIVED', 'MODELS', 'UNDERSTANDING', 'KEY', 'APPLYING', 'PRELIMINARY', 'GROUP', 'ISSUE', 'APPLIED', '“I', 'THINK', 'DISCOVERY', 'TRANSITION-METAL', 'VARIETY', 'PUBLISHED', 'CALLED', 'CATALYSTS', 'METHANE', 'ABLE', 'DAYS', 'WOULD', 'COMPONENT', 'TRAIN', 'BOTH', 'REMAINS', 'DON’T', 'WHAT', 'GENERATED', 'PARTICULAR', 'CONDITIONS', 'ASPECTS', 'TIME', 'DA', 'PAINTINGS', 'LONDON', 'GALLERY', 'DETECT', 'PIGMENTS', 'WORLD', 'TOGETHER', 'INFORMATION', 'DISCIPLINES', 'EXPERTS', 'POTENTIALLY', 'POINTS', 'SEES', 'CURATORS']\n",
      "Words That appear exactly 5 times: ['SCIENTISTS', 'NEW', 'BASED', 'UNIVERSITY', 'EXAMPLE', 'IMAGING', 'HE', 'ALTHOUGH', 'PATTERNS', 'CHEMICAL', 'COMPUTATIONAL']\n",
      "Words That appear exactly 10 times: ['OTHER', 'BE']\n"
     ]
    }
   ],
   "source": [
    "reverse_dictionary = {}  # Empty dictionary to store the word frequency dictionary with swaped keys and values\n",
    "\n",
    "# For all items in dictionary, try to append the word to a dictionary value at index count, otherwise, set the a dictionary value at index count to a list with that word\n",
    "for word, count in dictionary.items():\n",
    "    try:\n",
    "        reverse_dictionary[count].append(word)\n",
    "    except:\n",
    "        reverse_dictionary[count] = [word]\n",
    "\n",
    "# Display the output\n",
    "print(\"Words That appear exactly 2 times:\", reverse_dictionary[2])\n",
    "print(\"Words That appear exactly 5 times:\", reverse_dictionary[5])\n",
    "print(\"Words That appear exactly 10 times:\", reverse_dictionary[10])"
   ]
  },
  {
   "cell_type": "markdown",
   "metadata": {},
   "source": [
    "### Task 5\n",
    " Draw a bar figure to show the average length of words for each appearance frequency."
   ]
  },
  {
   "cell_type": "code",
   "execution_count": 8,
   "metadata": {},
   "outputs": [
    {
     "data": {
      "text/plain": [
       "<BarContainer object of 27 artists>"
      ]
     },
     "execution_count": 8,
     "metadata": {},
     "output_type": "execute_result"
    },
    {
     "data": {
      "image/png": "[encoded data removed]",
      "text/plain": [
       "<Figure size 640x480 with 1 Axes>"
      ]
     },
     "metadata": {},
     "output_type": "display_data"
    }
   ],
   "source": [
    "import matplotlib.pyplot as plot\n",
    "\n",
    "appearances = list(reverse_dictionary.keys())  # Create a list with all of the appearances of a key (no empty indexes) in the dictionary (prevents zero division in avg_len)\n",
    "avg_len = [sum([len(word) for word in value]) / len(value) for value in reverse_dictionary.values()]  # Get average word length for key from the dictionary (plotting function)\n",
    "\n",
    "plot.bar(appearances, avg_len)  # Use matplotlib to plot the average length of words for each non-zero word appearance frequencies"
   ]
  }
 ],
 "metadata": {
  "kernelspec": {
   "display_name": "Python 3",
   "language": "python",
   "name": "python3"
  },
  "language_info": {
   "codemirror_mode": {
    "name": "ipython",
    "version": 3
   },
   "file_extension": ".py",
   "mimetype": "text/x-python",
   "name": "python",
   "nbconvert_exporter": "python",
   "pygments_lexer": "ipython3",
   "version": "3.11.5"
  }
 },
 "nbformat": 4,
 "nbformat_minor": 2
}
